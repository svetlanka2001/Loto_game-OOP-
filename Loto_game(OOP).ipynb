{
  "nbformat": 4,
  "nbformat_minor": 0,
  "metadata": {
    "colab": {
      "provenance": [],
      "collapsed_sections": []
    },
    "kernelspec": {
      "name": "python3",
      "display_name": "Python 3"
    },
    "language_info": {
      "name": "python"
    }
  },
  "cells": [
    {
      "cell_type": "code",
      "execution_count": null,
      "metadata": {
        "id": "8N5BeN1VeN5u"
      },
      "outputs": [],
      "source": [
        "import pandas as pd\n",
        "import numpy as np \n",
        "import random\n"
      ]
    },
    {
      "cell_type": "code",
      "source": [
        "# создание класса игральной карточки\n",
        "class Card:\n",
        "  def __init__(self):\n",
        "    self.card=None\n",
        "  \n",
        "  def create(self):\n",
        "        \"\"\"\n",
        "        Задание содержимого карточки 30 уникальных номеров от 1 до 90\n",
        "        \n",
        "        \"\"\"\n",
        "        rows=3\n",
        "        columns=10\n",
        "        card_df=pd.DataFrame(np.random.randint(1,90, (rows, columns)))\n",
        "        return card_df"
      ],
      "metadata": {
        "id": "kevtdyXleOju"
      },
      "execution_count": null,
      "outputs": []
    },
    {
      "cell_type": "code",
      "source": [
        "class Computer:\n",
        "  \n",
        "  def verify_card(self, card_df, next_digit):\n",
        "        \"\"\"\n",
        "        проверка наличия числа на карте и его замена на \"-\" при совпадении\n",
        "        \n",
        "        \"\"\"\n",
        "\n",
        "        for row in range(card_df.shape[0]): \n",
        "          for col in range(card_df.shape[1]):\n",
        "             if card_df.loc[row,col] == next_digit:\n",
        "               print(\"На карте найдено совпадение\")\n",
        "               ind=int(row), int(col)\n",
        "               card_df.iloc[ind]=\"-\"\n",
        "        print(card_df)\n",
        "               \n",
        "        #return card_df\n",
        "      \n",
        "  def verify_if_won(self, card_df):\n",
        "        \"\"\"\n",
        "        проверка, остались ли на карте цифры\n",
        "        \"\"\"\n",
        "        counter=0\n",
        "        for i in range(10):\n",
        "          for j in card_df[i]:\n",
        "            if isinstance(j, int):\n",
        "              counter+=1\n",
        "              break\n",
        "        if counter==0:\n",
        "          print(\"Компьютер выиграл\")\n",
        "        else:\n",
        "          print(\"Играем дальше. Ход за человеком\")\n",
        "        #return card_df"
      ],
      "metadata": {
        "id": "0M96DVVOLiip"
      },
      "execution_count": null,
      "outputs": []
    },
    {
      "cell_type": "code",
      "source": [
        "class Human:\n",
        "  \n",
        "  def verify_card(self, card_df, next_digit):\n",
        "        \"\"\"\n",
        "        проверка на совпадение нового числа на карте игрока-человека\n",
        "        \n",
        "        \"\"\"\n",
        "        counter=0\n",
        "        for row in range(card_df.shape[0]): \n",
        "          for col in range(card_df.shape[1]):\n",
        "             if card_df.loc[row,col] == next_digit:\n",
        "               counter+=1\n",
        "        if counter>=1:\n",
        "          return True\n",
        "        else:\n",
        "          return False\n",
        "\n",
        "  def cancel_num(self, card_df, next_digit):\n",
        "    for row in range(card_df.shape[0]): \n",
        "          for col in range(card_df.shape[1]):\n",
        "             if card_df.loc[row,col] == next_digit:\n",
        "               print(\"На карте найдено совпадение\")\n",
        "               ind=int(row), int(col)\n",
        "               card_df.iloc[ind]=\"-\"\n",
        "    print(card_df)\n",
        "      "
      ],
      "metadata": {
        "id": "2jlZXbC2hV5n"
      },
      "execution_count": null,
      "outputs": []
    },
    {
      "cell_type": "code",
      "source": [
        "# функция получения рандомного числа от 1 до 90\n",
        "def new_digit():\n",
        "  next_digit=random.randint(1,90)\n",
        "  return next_digit"
      ],
      "metadata": {
        "id": "dnGv1l5dO6DC"
      },
      "execution_count": null,
      "outputs": []
    },
    {
      "cell_type": "code",
      "source": [
        "humain_answer=input(\"Человек, есть ли новая цифра на твоей карте? Да/Нет?\")\n",
        "if humain_answer == \"Да\":\n",
        "  human_player.verify_card(human_card, result)\n",
        "  print(\"Человек угадал\")\n",
        "else:\n",
        "  print(\"Человек ошибся\")\n",
        "if humain_answer == \"Нет\":\n",
        "  if human_player.verify_card(human_card, result)==False:\n",
        "    print(\"Человек угадал\")\n",
        "  else:\n",
        "    print(\"Человек ошибся\")"
      ],
      "metadata": {
        "colab": {
          "base_uri": "https://localhost:8080/"
        },
        "id": "CiV4nEsn8hvY",
        "outputId": "1d1d5816-2c10-4cc1-e718-0434df1e373b"
      },
      "execution_count": null,
      "outputs": [
        {
          "output_type": "stream",
          "name": "stdout",
          "text": [
            "Человек, есть ли новая цифра на твоей карте? Да/Нет?Нет\n",
            "Человек ошибся\n",
            "Человек ошибся\n"
          ]
        }
      ]
    },
    {
      "cell_type": "markdown",
      "source": [
        "Необходимые классы и методы прописаны, теперь создадим логику самой игры:"
      ],
      "metadata": {
        "id": "cwm1j867bXLe"
      }
    },
    {
      "cell_type": "code",
      "source": [
        "print(\"Посмотрим на карточки игрока-компьютера и игрока -человека:\")"
      ],
      "metadata": {
        "colab": {
          "base_uri": "https://localhost:8080/"
        },
        "id": "jHSs4ZlycyA6",
        "outputId": "cf82c289-bda5-4e10-fb0e-345f50659436"
      },
      "execution_count": null,
      "outputs": [
        {
          "output_type": "stream",
          "name": "stdout",
          "text": [
            "Посмотрим на карточки игрока-компьютера и игрока -человека:\n"
          ]
        }
      ]
    },
    {
      "cell_type": "code",
      "source": [
        "print(\"Карточка человека\", end='\\n')\n",
        "print(human_card, end='\\n')\n",
        "print()\n",
        "print(\"Карточка компьютера\", end='\\n')\n",
        "print(computer_card)"
      ],
      "metadata": {
        "colab": {
          "base_uri": "https://localhost:8080/"
        },
        "id": "scydPMg8c7x5",
        "outputId": "65438e98-d2d5-4076-ff9f-a827ba70d0fe"
      },
      "execution_count": null,
      "outputs": [
        {
          "output_type": "stream",
          "name": "stdout",
          "text": [
            "Карточка человека\n",
            "    0   1   2   3   4   5   6   7   8   9\n",
            "0  46  83  54  56  20  69  82   5   8  10\n",
            "1  72  52  51  75  12  23  26  63  25  59\n",
            "2  72  18  12  77  27  14  56  75  31   7\n",
            "\n",
            "Карточка компьютера\n",
            "    0   1   2   3   4   5   6   7   8   9\n",
            "0  64  79  53  32  42  46  35  64  44   1\n",
            "1  72  18  45  25   4  29  72  89  61  20\n",
            "2  87  66  88   8  41   7   4  82  69   2\n"
          ]
        }
      ]
    },
    {
      "cell_type": "code",
      "source": [
        "print(\"Вытаскиваем бочонок из мешка\")\n",
        "# получаем новое рандомное число:\n",
        "result=new_digit()\n",
        "print(\"Новая цифра\", result)"
      ],
      "metadata": {
        "id": "SMGuUk3JykaT",
        "colab": {
          "base_uri": "https://localhost:8080/"
        },
        "outputId": "a596b2eb-c7f1-4d61-ee92-72d06ada9494"
      },
      "execution_count": null,
      "outputs": [
        {
          "output_type": "stream",
          "name": "stdout",
          "text": [
            "Вытаскиваем бочонок из мешка\n",
            "Новая цифра 51\n"
          ]
        }
      ]
    },
    {
      "cell_type": "code",
      "source": [
        "if __name__ == '__main__':\n",
        "    # Создание объекта класса Card\n",
        "    human = Card()\n",
        "    computer=Card()\n",
        "\n",
        "# создание конкретной карты для компьютера и человека:\n",
        "human_card=human.create()\n",
        "computer_card=computer.create()\n",
        "\n",
        "#создание класса игрока компьютер:\n",
        "if __name__ == '__main__':\n",
        "  computer_player=Computer()\n",
        "#создание класса игрока человек:\n",
        "if __name__ == '__main__':\n",
        "  human_player=Human()\n",
        "\n",
        "print(\"Посмотрим на карточки игрока-компьютера и игрока -человека:\")\n",
        "\n",
        "for move in range(30):\n",
        "  result=new_digit()\n",
        "  print(\"Новая цифра\", result)\n",
        "  computer_player.verify_card(computer_card, result)\n",
        "  computer_player.verify_if_won(computer_card)\n",
        "  print(human_card)\n",
        "  humain_answer=input(\"Человек, есть ли новая цифра на твоей карте? Да/Нет?\")\n",
        "  if humain_answer == \"Да\":\n",
        "    if human_player.verify_card(human_card, result):\n",
        "      print(\"Человек угадал\")\n",
        "      human_player.cancel_num(human_card, result)\n",
        "    else:\n",
        "      raise Exception(\"Человек ошибся. Игра закончена. Человек проиграл.\")\n",
        "  if humain_answer == \"Нет\":\n",
        "    if human_player.verify_card(human_card, result)==False:\n",
        "      print(\"Человек угадал\")\n",
        "      human_player.cancel_num(human_card, result)\n",
        "    else:\n",
        "      raise Exception(\"Человек ошибся. Игра закончена. Человек проиграл.\")"
      ],
      "metadata": {
        "id": "0ggmtSjkykh3",
        "colab": {
          "base_uri": "https://localhost:8080/",
          "height": 1000
        },
        "outputId": "2b74a6e9-3d83-441d-ef68-1045c16c5463"
      },
      "execution_count": null,
      "outputs": [
        {
          "name": "stdout",
          "output_type": "stream",
          "text": [
            "Посмотрим на карточки игрока-компьютера и игрока -человека:\n",
            "Новая цифра 55\n",
            "    0   1   2   3   4   5   6   7   8   9\n",
            "0  76  23  84  30  59  85  58  52  31  25\n",
            "1  14  26  44  24  38  48  29  30  57  52\n",
            "2  47  48   6  48   4  79  73  17  63  51\n",
            "Играем дальше. Ход за человеком\n",
            "    0   1   2   3   4   5   6   7   8   9\n",
            "0  33  87  52  28   6  35  74  20  70  36\n",
            "1  30  27  74  70  60  72  59  68  57  18\n",
            "2   6  23  17  81  59  24  62  11  17  77\n",
            "Человек, есть ли новая цифра на твоей карте? Да/Нет?Нет\n",
            "Человек угадал\n",
            "    0   1   2   3   4   5   6   7   8   9\n",
            "0  33  87  52  28   6  35  74  20  70  36\n",
            "1  30  27  74  70  60  72  59  68  57  18\n",
            "2   6  23  17  81  59  24  62  11  17  77\n",
            "Новая цифра 19\n",
            "    0   1   2   3   4   5   6   7   8   9\n",
            "0  76  23  84  30  59  85  58  52  31  25\n",
            "1  14  26  44  24  38  48  29  30  57  52\n",
            "2  47  48   6  48   4  79  73  17  63  51\n",
            "Играем дальше. Ход за человеком\n",
            "    0   1   2   3   4   5   6   7   8   9\n",
            "0  33  87  52  28   6  35  74  20  70  36\n",
            "1  30  27  74  70  60  72  59  68  57  18\n",
            "2   6  23  17  81  59  24  62  11  17  77\n",
            "Человек, есть ли новая цифра на твоей карте? Да/Нет?Нет\n",
            "Человек угадал\n",
            "    0   1   2   3   4   5   6   7   8   9\n",
            "0  33  87  52  28   6  35  74  20  70  36\n",
            "1  30  27  74  70  60  72  59  68  57  18\n",
            "2   6  23  17  81  59  24  62  11  17  77\n",
            "Новая цифра 12\n",
            "    0   1   2   3   4   5   6   7   8   9\n",
            "0  76  23  84  30  59  85  58  52  31  25\n",
            "1  14  26  44  24  38  48  29  30  57  52\n",
            "2  47  48   6  48   4  79  73  17  63  51\n",
            "Играем дальше. Ход за человеком\n",
            "    0   1   2   3   4   5   6   7   8   9\n",
            "0  33  87  52  28   6  35  74  20  70  36\n",
            "1  30  27  74  70  60  72  59  68  57  18\n",
            "2   6  23  17  81  59  24  62  11  17  77\n",
            "Человек, есть ли новая цифра на твоей карте? Да/Нет?Нет\n",
            "Человек угадал\n",
            "    0   1   2   3   4   5   6   7   8   9\n",
            "0  33  87  52  28   6  35  74  20  70  36\n",
            "1  30  27  74  70  60  72  59  68  57  18\n",
            "2   6  23  17  81  59  24  62  11  17  77\n",
            "Новая цифра 62\n",
            "    0   1   2   3   4   5   6   7   8   9\n",
            "0  76  23  84  30  59  85  58  52  31  25\n",
            "1  14  26  44  24  38  48  29  30  57  52\n",
            "2  47  48   6  48   4  79  73  17  63  51\n",
            "Играем дальше. Ход за человеком\n",
            "    0   1   2   3   4   5   6   7   8   9\n",
            "0  33  87  52  28   6  35  74  20  70  36\n",
            "1  30  27  74  70  60  72  59  68  57  18\n",
            "2   6  23  17  81  59  24  62  11  17  77\n",
            "Человек, есть ли новая цифра на твоей карте? Да/Нет?Да\n",
            "Человек угадал\n",
            "На карте найдено совпадение\n",
            "    0   1   2   3   4   5   6   7   8   9\n",
            "0  33  87  52  28   6  35  74  20  70  36\n",
            "1  30  27  74  70  60  72  59  68  57  18\n",
            "2   6  23  17  81  59  24   -  11  17  77\n",
            "Новая цифра 82\n",
            "    0   1   2   3   4   5   6   7   8   9\n",
            "0  76  23  84  30  59  85  58  52  31  25\n",
            "1  14  26  44  24  38  48  29  30  57  52\n",
            "2  47  48   6  48   4  79  73  17  63  51\n",
            "Играем дальше. Ход за человеком\n",
            "    0   1   2   3   4   5   6   7   8   9\n",
            "0  33  87  52  28   6  35  74  20  70  36\n",
            "1  30  27  74  70  60  72  59  68  57  18\n",
            "2   6  23  17  81  59  24   -  11  17  77\n",
            "Человек, есть ли новая цифра на твоей карте? Да/Нет?Нет\n",
            "Человек угадал\n",
            "    0   1   2   3   4   5   6   7   8   9\n",
            "0  33  87  52  28   6  35  74  20  70  36\n",
            "1  30  27  74  70  60  72  59  68  57  18\n",
            "2   6  23  17  81  59  24   -  11  17  77\n",
            "Новая цифра 47\n",
            "На карте найдено совпадение\n",
            "    0   1   2   3   4   5   6   7   8   9\n",
            "0  76  23  84  30  59  85  58  52  31  25\n",
            "1  14  26  44  24  38  48  29  30  57  52\n",
            "2   -  48   6  48   4  79  73  17  63  51\n",
            "Играем дальше. Ход за человеком\n",
            "    0   1   2   3   4   5   6   7   8   9\n",
            "0  33  87  52  28   6  35  74  20  70  36\n",
            "1  30  27  74  70  60  72  59  68  57  18\n",
            "2   6  23  17  81  59  24   -  11  17  77\n",
            "Человек, есть ли новая цифра на твоей карте? Да/Нет?Нет\n",
            "Человек угадал\n",
            "    0   1   2   3   4   5   6   7   8   9\n",
            "0  33  87  52  28   6  35  74  20  70  36\n",
            "1  30  27  74  70  60  72  59  68  57  18\n",
            "2   6  23  17  81  59  24   -  11  17  77\n",
            "Новая цифра 5\n",
            "    0   1   2   3   4   5   6   7   8   9\n",
            "0  76  23  84  30  59  85  58  52  31  25\n",
            "1  14  26  44  24  38  48  29  30  57  52\n",
            "2   -  48   6  48   4  79  73  17  63  51\n",
            "Играем дальше. Ход за человеком\n",
            "    0   1   2   3   4   5   6   7   8   9\n",
            "0  33  87  52  28   6  35  74  20  70  36\n",
            "1  30  27  74  70  60  72  59  68  57  18\n",
            "2   6  23  17  81  59  24   -  11  17  77\n",
            "Человек, есть ли новая цифра на твоей карте? Да/Нет?Да\n"
          ]
        },
        {
          "output_type": "error",
          "ename": "Exception",
          "evalue": "ignored",
          "traceback": [
            "\u001b[0;31m---------------------------------------------------------------------------\u001b[0m",
            "\u001b[0;31mException\u001b[0m                                 Traceback (most recent call last)",
            "\u001b[0;32m<ipython-input-69-d9933e8c7851>\u001b[0m in \u001b[0;36m<module>\u001b[0;34m\u001b[0m\n\u001b[1;32m     29\u001b[0m       \u001b[0mhuman_player\u001b[0m\u001b[0;34m.\u001b[0m\u001b[0mcancel_num\u001b[0m\u001b[0;34m(\u001b[0m\u001b[0mhuman_card\u001b[0m\u001b[0;34m,\u001b[0m \u001b[0mresult\u001b[0m\u001b[0;34m)\u001b[0m\u001b[0;34m\u001b[0m\u001b[0;34m\u001b[0m\u001b[0m\n\u001b[1;32m     30\u001b[0m     \u001b[0;32melse\u001b[0m\u001b[0;34m:\u001b[0m\u001b[0;34m\u001b[0m\u001b[0;34m\u001b[0m\u001b[0m\n\u001b[0;32m---> 31\u001b[0;31m       \u001b[0;32mraise\u001b[0m \u001b[0mException\u001b[0m\u001b[0;34m(\u001b[0m\u001b[0;34m\"Человек ошибся. Игра закончена. Человек проиграл.\"\u001b[0m\u001b[0;34m)\u001b[0m\u001b[0;34m\u001b[0m\u001b[0;34m\u001b[0m\u001b[0m\n\u001b[0m\u001b[1;32m     32\u001b[0m   \u001b[0;32mif\u001b[0m \u001b[0mhumain_answer\u001b[0m \u001b[0;34m==\u001b[0m \u001b[0;34m\"Нет\"\u001b[0m\u001b[0;34m:\u001b[0m\u001b[0;34m\u001b[0m\u001b[0;34m\u001b[0m\u001b[0m\n\u001b[1;32m     33\u001b[0m     \u001b[0;32mif\u001b[0m \u001b[0mhuman_player\u001b[0m\u001b[0;34m.\u001b[0m\u001b[0mverify_card\u001b[0m\u001b[0;34m(\u001b[0m\u001b[0mhuman_card\u001b[0m\u001b[0;34m,\u001b[0m \u001b[0mresult\u001b[0m\u001b[0;34m)\u001b[0m\u001b[0;34m==\u001b[0m\u001b[0;32mFalse\u001b[0m\u001b[0;34m:\u001b[0m\u001b[0;34m\u001b[0m\u001b[0;34m\u001b[0m\u001b[0m\n",
            "\u001b[0;31mException\u001b[0m: Человек ошибся. Игра закончена. Человек проиграл."
          ]
        }
      ]
    },
    {
      "cell_type": "code",
      "source": [],
      "metadata": {
        "id": "dr4sx0zIykli"
      },
      "execution_count": null,
      "outputs": []
    },
    {
      "cell_type": "code",
      "source": [],
      "metadata": {
        "id": "Jwysy8DFnoWO"
      },
      "execution_count": null,
      "outputs": []
    },
    {
      "cell_type": "code",
      "source": [],
      "metadata": {
        "id": "DMdqG2d9noYm"
      },
      "execution_count": null,
      "outputs": []
    },
    {
      "cell_type": "code",
      "source": [],
      "metadata": {
        "id": "SKT7-jeHnobB"
      },
      "execution_count": null,
      "outputs": []
    },
    {
      "cell_type": "code",
      "source": [],
      "metadata": {
        "id": "XVSqO7Afnoen"
      },
      "execution_count": null,
      "outputs": []
    }
  ]
}